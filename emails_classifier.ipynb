{
 "cells": [
  {
   "cell_type": "code",
   "execution_count": 2,
   "id": "8338bb18",
   "metadata": {
    "tags": []
   },
   "outputs": [
    {
     "ename": "ModuleNotFoundError",
     "evalue": "No module named 'numpy'",
     "output_type": "error",
     "traceback": [
      "\u001b[1;31m---------------------------------------------------------------------------\u001b[0m",
      "\u001b[1;31mModuleNotFoundError\u001b[0m                       Traceback (most recent call last)",
      "Cell \u001b[1;32mIn[2], line 2\u001b[0m\n\u001b[0;32m      1\u001b[0m \u001b[38;5;66;03m# linear algebra\u001b[39;00m\n\u001b[1;32m----> 2\u001b[0m \u001b[38;5;28;01mimport\u001b[39;00m \u001b[38;5;21;01mnumpy\u001b[39;00m \u001b[38;5;28;01mas\u001b[39;00m \u001b[38;5;21;01mnp\u001b[39;00m \n\u001b[0;32m      3\u001b[0m  \u001b[38;5;66;03m# data processing, CSV file I/O (e.g. pd.read_csv)\u001b[39;00m\n\u001b[0;32m      4\u001b[0m \u001b[38;5;28;01mimport\u001b[39;00m \u001b[38;5;21;01mpandas\u001b[39;00m \u001b[38;5;28;01mas\u001b[39;00m \u001b[38;5;21;01mpd\u001b[39;00m\n",
      "\u001b[1;31mModuleNotFoundError\u001b[0m: No module named 'numpy'"
     ]
    }
   ],
   "source": [
    "\n",
    "# linear algebra\n",
    "import numpy as np \n",
    " # data processing, CSV file I/O (e.g. pd.read_csv)\n",
    "import pandas as pd\n",
    "from sklearn.model_selection import train_test_split\n",
    "from sklearn.naive_bayes import MultinomialNB\n",
    "from sklearn.svm import SVC\n",
    "from sklearn.ensemble import RandomForestClassifier\n",
    "from sklearn.metrics import accuracy_score\n"
   ]
  },
  {
   "cell_type": "code",
   "execution_count": null,
   "id": "cd47b51f",
   "metadata": {
    "tags": []
   },
   "outputs": [
    {
     "name": "stdout",
     "output_type": "stream",
     "text": [
      "file successfully read with encoding: utf-8\n",
      "csv file has successfully been loaded.\n"
     ]
    }
   ],
   "source": [
    "encoding = ['utf-8', 'latini', 'ISO-8859-1', 'cp1252']\n",
    "\n",
    "file_path = 'combined_data.csv'\n",
    "for encoding in encoding:\n",
    "    try:\n",
    "        df = pd.read_csv(file_path, encoding=encoding)\n",
    "        print(f\"file successfully read with encoding: {encoding}\")\n",
    "        #stopping the for loop\n",
    "        break\n",
    "    \n",
    "    except UnicodeDecodeError:\n",
    "         print(f\"filed read with encoding: {encoding}\")\n",
    "        #the below part if for trying the next encoding, if the \n",
    "         continue\n",
    "        \n",
    "        \n",
    "if 'df' in locals():\n",
    "    print(\"csv file has successfully been loaded.\")\n",
    "\n",
    "    \n",
    "else:\n",
    "    print(\"csv file has failed to be loaded. Unable to read the csv file.\")\n",
    "    \n",
    "  \n",
    "    "
   ]
  },
  {
   "cell_type": "code",
   "execution_count": null,
   "id": "6547f44e",
   "metadata": {
    "tags": []
   },
   "outputs": [
    {
     "data": {
      "text/html": [
       "<div>\n",
       "<style scoped>\n",
       "    .dataframe tbody tr th:only-of-type {\n",
       "        vertical-align: middle;\n",
       "    }\n",
       "\n",
       "    .dataframe tbody tr th {\n",
       "        vertical-align: top;\n",
       "    }\n",
       "\n",
       "    .dataframe thead th {\n",
       "        text-align: right;\n",
       "    }\n",
       "</style>\n",
       "<table border=\"1\" class=\"dataframe\">\n",
       "  <thead>\n",
       "    <tr style=\"text-align: right;\">\n",
       "      <th></th>\n",
       "      <th>label</th>\n",
       "      <th>text</th>\n",
       "    </tr>\n",
       "  </thead>\n",
       "  <tbody>\n",
       "    <tr>\n",
       "      <th>15480</th>\n",
       "      <td>1</td>\n",
       "      <td>lower your monthly expenses with our reduce pr...</td>\n",
       "    </tr>\n",
       "    <tr>\n",
       "      <th>53</th>\n",
       "      <td>1</td>\n",
       "      <td>hello ,\\nhow are you ?\\nfor top quality replic...</td>\n",
       "    </tr>\n",
       "    <tr>\n",
       "      <th>46690</th>\n",
       "      <td>1</td>\n",
       "      <td>actvaton activatio activatin acivaion actiatio...</td>\n",
       "    </tr>\n",
       "    <tr>\n",
       "      <th>63230</th>\n",
       "      <td>0</td>\n",
       "      <td>author larry date fri jun escapenumber escapen...</td>\n",
       "    </tr>\n",
       "    <tr>\n",
       "      <th>43050</th>\n",
       "      <td>1</td>\n",
       "      <td>dear valued member we are sure that your healt...</td>\n",
       "    </tr>\n",
       "    <tr>\n",
       "      <th>49355</th>\n",
       "      <td>1</td>\n",
       "      <td>hey ,\\nall kinds of soft - ware available for ...</td>\n",
       "    </tr>\n",
       "    <tr>\n",
       "      <th>3729</th>\n",
       "      <td>1</td>\n",
       "      <td>anatrim escapenumber the latest and most excit...</td>\n",
       "    </tr>\n",
       "    <tr>\n",
       "      <th>26268</th>\n",
       "      <td>1</td>\n",
       "      <td>home owners great options available for refi a...</td>\n",
       "    </tr>\n",
       "    <tr>\n",
       "      <th>6369</th>\n",
       "      <td>0</td>\n",
       "      <td>darren :\\nit ' s that time again . please remo...</td>\n",
       "    </tr>\n",
       "    <tr>\n",
       "      <th>76094</th>\n",
       "      <td>0</td>\n",
       "      <td>is r not loading the packages at all like they...</td>\n",
       "    </tr>\n",
       "  </tbody>\n",
       "</table>\n",
       "</div>"
      ],
      "text/plain": [
       "       label                                               text\n",
       "15480      1  lower your monthly expenses with our reduce pr...\n",
       "53         1  hello ,\\nhow are you ?\\nfor top quality replic...\n",
       "46690      1  actvaton activatio activatin acivaion actiatio...\n",
       "63230      0  author larry date fri jun escapenumber escapen...\n",
       "43050      1  dear valued member we are sure that your healt...\n",
       "49355      1  hey ,\\nall kinds of soft - ware available for ...\n",
       "3729       1  anatrim escapenumber the latest and most excit...\n",
       "26268      1  home owners great options available for refi a...\n",
       "6369       0  darren :\\nit ' s that time again . please remo...\n",
       "76094      0  is r not loading the packages at all like they..."
      ]
     },
     "execution_count": 3,
     "metadata": {},
     "output_type": "execute_result"
    }
   ],
   "source": [
    "#to desplay 10 sample from the data set.\n",
    "df.sample(10)"
   ]
  },
  {
   "cell_type": "code",
   "execution_count": null,
   "id": "81b4aec3",
   "metadata": {
    "tags": []
   },
   "outputs": [
    {
     "name": "stdout",
     "output_type": "stream",
     "text": [
      "<class 'pandas.core.frame.DataFrame'>\n",
      "RangeIndex: 83448 entries, 0 to 83447\n",
      "Data columns (total 2 columns):\n",
      " #   Column  Non-Null Count  Dtype \n",
      "---  ------  --------------  ----- \n",
      " 0   label   83448 non-null  int64 \n",
      " 1   text    83448 non-null  object\n",
      "dtypes: int64(1), object(1)\n",
      "memory usage: 1.3+ MB\n"
     ]
    }
   ],
   "source": [
    "df.info()"
   ]
  },
  {
   "cell_type": "code",
   "execution_count": null,
   "id": "f664c4df",
   "metadata": {
    "tags": []
   },
   "outputs": [
    {
     "data": {
      "text/html": [
       "<div>\n",
       "<style scoped>\n",
       "    .dataframe tbody tr th:only-of-type {\n",
       "        vertical-align: middle;\n",
       "    }\n",
       "\n",
       "    .dataframe tbody tr th {\n",
       "        vertical-align: top;\n",
       "    }\n",
       "\n",
       "    .dataframe thead th {\n",
       "        text-align: right;\n",
       "    }\n",
       "</style>\n",
       "<table border=\"1\" class=\"dataframe\">\n",
       "  <thead>\n",
       "    <tr style=\"text-align: right;\">\n",
       "      <th></th>\n",
       "      <th>labels</th>\n",
       "      <th>Texts</th>\n",
       "    </tr>\n",
       "  </thead>\n",
       "  <tbody>\n",
       "    <tr>\n",
       "      <th>15857</th>\n",
       "      <td>0</td>\n",
       "      <td>fyi\\n- - - - - - - - - - - - - - - - - - - - -...</td>\n",
       "    </tr>\n",
       "    <tr>\n",
       "      <th>57405</th>\n",
       "      <td>1</td>\n",
       "      <td>your credit score doesn't matter to us if you ...</td>\n",
       "    </tr>\n",
       "    <tr>\n",
       "      <th>47248</th>\n",
       "      <td>0</td>\n",
       "      <td>but it did not work i was getting the below er...</td>\n",
       "    </tr>\n",
       "    <tr>\n",
       "      <th>21292</th>\n",
       "      <td>0</td>\n",
       "      <td>( see attached file : hplnl 123 . xls )\\n- hpl...</td>\n",
       "    </tr>\n",
       "    <tr>\n",
       "      <th>17498</th>\n",
       "      <td>1</td>\n",
       "      <td>hi antelopehn you've just received a postcard ...</td>\n",
       "    </tr>\n",
       "    <tr>\n",
       "      <th>5539</th>\n",
       "      <td>0</td>\n",
       "      <td>alert name bush bush 'horrified' by virginia t...</td>\n",
       "    </tr>\n",
       "    <tr>\n",
       "      <th>69815</th>\n",
       "      <td>0</td>\n",
       "      <td>to all :\\nthe attached memo summarizes our dis...</td>\n",
       "    </tr>\n",
       "    <tr>\n",
       "      <th>41181</th>\n",
       "      <td>0</td>\n",
       "      <td>on sat escapenumber escapenumber escapenumber ...</td>\n",
       "    </tr>\n",
       "    <tr>\n",
       "      <th>5283</th>\n",
       "      <td>0</td>\n",
       "      <td>louise and marcus ,\\nimmigration is status quo...</td>\n",
       "    </tr>\n",
       "    <tr>\n",
       "      <th>77034</th>\n",
       "      <td>1</td>\n",
       "      <td>million making their happen product up dfcom t...</td>\n",
       "    </tr>\n",
       "  </tbody>\n",
       "</table>\n",
       "</div>"
      ],
      "text/plain": [
       "       labels                                              Texts\n",
       "15857       0  fyi\\n- - - - - - - - - - - - - - - - - - - - -...\n",
       "57405       1  your credit score doesn't matter to us if you ...\n",
       "47248       0  but it did not work i was getting the below er...\n",
       "21292       0  ( see attached file : hplnl 123 . xls )\\n- hpl...\n",
       "17498       1  hi antelopehn you've just received a postcard ...\n",
       "5539        0  alert name bush bush 'horrified' by virginia t...\n",
       "69815       0  to all :\\nthe attached memo summarizes our dis...\n",
       "41181       0  on sat escapenumber escapenumber escapenumber ...\n",
       "5283        0  louise and marcus ,\\nimmigration is status quo...\n",
       "77034       1  million making their happen product up dfcom t..."
      ]
     },
     "execution_count": 5,
     "metadata": {},
     "output_type": "execute_result"
    }
   ],
   "source": [
    "#renaming the columns0 of the dataset\n",
    "# label to labels\n",
    "#text to text\n",
    "df.rename(columns={'label':'labels','text':'Texts'},inplace=True)\n",
    "#show samples\n",
    "\n",
    "df.sample(10)"
   ]
  },
  {
   "cell_type": "code",
   "execution_count": null,
   "id": "06c477f5",
   "metadata": {
    "tags": []
   },
   "outputs": [
    {
     "data": {
      "text/plain": [
       "0"
      ]
     },
     "execution_count": 6,
     "metadata": {},
     "output_type": "execute_result"
    }
   ],
   "source": [
    "df.duplicated().sum()\n",
    "#to find the number of duplicate data in the dataset"
   ]
  },
  {
   "cell_type": "code",
   "execution_count": null,
   "id": "91deb74c",
   "metadata": {
    "tags": []
   },
   "outputs": [],
   "source": [
    "# if there is duplicated data in the dataset use the below code to remove one of the data\n",
    "#df=df.drop_duplicate(keep='first')"
   ]
  },
  {
   "cell_type": "code",
   "execution_count": null,
   "id": "b6206fa7",
   "metadata": {
    "tags": []
   },
   "outputs": [
    {
     "data": {
      "text/plain": [
       "(83448, 2)"
      ]
     },
     "execution_count": 8,
     "metadata": {},
     "output_type": "execute_result"
    }
   ],
   "source": [
    "df.shape\n"
   ]
  },
  {
   "cell_type": "code",
   "execution_count": null,
   "id": "1235850d",
   "metadata": {
    "tags": []
   },
   "outputs": [
    {
     "data": {
      "text/html": [
       "<div>\n",
       "<style scoped>\n",
       "    .dataframe tbody tr th:only-of-type {\n",
       "        vertical-align: middle;\n",
       "    }\n",
       "\n",
       "    .dataframe tbody tr th {\n",
       "        vertical-align: top;\n",
       "    }\n",
       "\n",
       "    .dataframe thead th {\n",
       "        text-align: right;\n",
       "    }\n",
       "</style>\n",
       "<table border=\"1\" class=\"dataframe\">\n",
       "  <thead>\n",
       "    <tr style=\"text-align: right;\">\n",
       "      <th></th>\n",
       "      <th>labels</th>\n",
       "      <th>Texts</th>\n",
       "    </tr>\n",
       "  </thead>\n",
       "  <tbody>\n",
       "    <tr>\n",
       "      <th>5109</th>\n",
       "      <td>1</td>\n",
       "      <td>the original message was received at tue , 19 ...</td>\n",
       "    </tr>\n",
       "    <tr>\n",
       "      <th>75927</th>\n",
       "      <td>0</td>\n",
       "      <td>jun escapenumber escapenumber escapenumber esc...</td>\n",
       "    </tr>\n",
       "    <tr>\n",
       "      <th>31600</th>\n",
       "      <td>1</td>\n",
       "      <td>couturier niobium bundle gu medusa superfluity...</td>\n",
       "    </tr>\n",
       "    <tr>\n",
       "      <th>17361</th>\n",
       "      <td>1</td>\n",
       "      <td>important symbol report http sescapenumber bil...</td>\n",
       "    </tr>\n",
       "    <tr>\n",
       "      <th>61439</th>\n",
       "      <td>0</td>\n",
       "      <td>here ' s that e - mail from northwest pipeline...</td>\n",
       "    </tr>\n",
       "    <tr>\n",
       "      <th>60805</th>\n",
       "      <td>1</td>\n",
       "      <td>downloadable software ds is a fast paced compa...</td>\n",
       "    </tr>\n",
       "    <tr>\n",
       "      <th>59979</th>\n",
       "      <td>0</td>\n",
       "      <td>at http samba sernet de ma bzr samba escapenum...</td>\n",
       "    </tr>\n",
       "    <tr>\n",
       "      <th>79384</th>\n",
       "      <td>0</td>\n",
       "      <td>&gt; * * urgent notification : si server maintena...</td>\n",
       "    </tr>\n",
       "    <tr>\n",
       "      <th>81966</th>\n",
       "      <td>0</td>\n",
       "      <td>this is a multipart message in mime format pic...</td>\n",
       "    </tr>\n",
       "    <tr>\n",
       "      <th>41813</th>\n",
       "      <td>1</td>\n",
       "      <td>order confirmation . your order should be ship...</td>\n",
       "    </tr>\n",
       "    <tr>\n",
       "      <th>20114</th>\n",
       "      <td>0</td>\n",
       "      <td>the internet patrol http clicks suretymailings...</td>\n",
       "    </tr>\n",
       "    <tr>\n",
       "      <th>59123</th>\n",
       "      <td>0</td>\n",
       "      <td>you've missed the complete true argument and a...</td>\n",
       "    </tr>\n",
       "    <tr>\n",
       "      <th>57625</th>\n",
       "      <td>0</td>\n",
       "      <td>robert hicks 写道 is export ok for those items y...</td>\n",
       "    </tr>\n",
       "    <tr>\n",
       "      <th>64448</th>\n",
       "      <td>0</td>\n",
       "      <td>google news alert for bush bush calls iraq suc...</td>\n",
       "    </tr>\n",
       "    <tr>\n",
       "      <th>22185</th>\n",
       "      <td>1</td>\n",
       "      <td>nutrisystem eat free for a week order from us ...</td>\n",
       "    </tr>\n",
       "    <tr>\n",
       "      <th>28730</th>\n",
       "      <td>1</td>\n",
       "      <td>greetings ,\\nwe are accepting your mortgage ap...</td>\n",
       "    </tr>\n",
       "    <tr>\n",
       "      <th>14607</th>\n",
       "      <td>1</td>\n",
       "      <td>before those virile women i bring down a bit o...</td>\n",
       "    </tr>\n",
       "    <tr>\n",
       "      <th>31477</th>\n",
       "      <td>0</td>\n",
       "      <td>vince -\\nthat is not a problem . we will not s...</td>\n",
       "    </tr>\n",
       "    <tr>\n",
       "      <th>82105</th>\n",
       "      <td>1</td>\n",
       "      <td>your credit history doesn't matter to us if yo...</td>\n",
       "    </tr>\n",
       "    <tr>\n",
       "      <th>1287</th>\n",
       "      <td>1</td>\n",
       "      <td>that this mud draws on the stone demonstrating...</td>\n",
       "    </tr>\n",
       "    <tr>\n",
       "      <th>20588</th>\n",
       "      <td>1</td>\n",
       "      <td>hey there find quality replica watches such as...</td>\n",
       "    </tr>\n",
       "    <tr>\n",
       "      <th>16204</th>\n",
       "      <td>0</td>\n",
       "      <td>dear ? vincent kaminski :\\n?\\ni got your conta...</td>\n",
       "    </tr>\n",
       "    <tr>\n",
       "      <th>67145</th>\n",
       "      <td>1</td>\n",
       "      <td>do not miss your opportunity escapenumber anat...</td>\n",
       "    </tr>\n",
       "    <tr>\n",
       "      <th>44019</th>\n",
       "      <td>1</td>\n",
       "      <td>¡¡ äúºãìø¼ûíøõ¾±¨¼ûµ¥èçïâ£º íøõ¾ààðí ðû´«ðí õ¹...</td>\n",
       "    </tr>\n",
       "    <tr>\n",
       "      <th>50939</th>\n",
       "      <td>0</td>\n",
       "      <td>ok here is a simple solution one can apply the...</td>\n",
       "    </tr>\n",
       "    <tr>\n",
       "      <th>18853</th>\n",
       "      <td>1</td>\n",
       "      <td>while we may have high expectations of our ass...</td>\n",
       "    </tr>\n",
       "    <tr>\n",
       "      <th>24930</th>\n",
       "      <td>0</td>\n",
       "      <td>please what ' s the ststus ?\\n- - - - - - - - ...</td>\n",
       "    </tr>\n",
       "    <tr>\n",
       "      <th>43301</th>\n",
       "      <td>0</td>\n",
       "      <td>on tue jun escapenumber escapenumber at escape...</td>\n",
       "    </tr>\n",
       "    <tr>\n",
       "      <th>454</th>\n",
       "      <td>1</td>\n",
       "      <td>start shopping at costco today with a free gol...</td>\n",
       "    </tr>\n",
       "    <tr>\n",
       "      <th>47722</th>\n",
       "      <td>1</td>\n",
       "      <td>hello , i have a special offer for you . . .\\n...</td>\n",
       "    </tr>\n",
       "  </tbody>\n",
       "</table>\n",
       "</div>"
      ],
      "text/plain": [
       "       labels                                              Texts\n",
       "5109        1  the original message was received at tue , 19 ...\n",
       "75927       0  jun escapenumber escapenumber escapenumber esc...\n",
       "31600       1  couturier niobium bundle gu medusa superfluity...\n",
       "17361       1  important symbol report http sescapenumber bil...\n",
       "61439       0  here ' s that e - mail from northwest pipeline...\n",
       "60805       1  downloadable software ds is a fast paced compa...\n",
       "59979       0  at http samba sernet de ma bzr samba escapenum...\n",
       "79384       0  > * * urgent notification : si server maintena...\n",
       "81966       0  this is a multipart message in mime format pic...\n",
       "41813       1  order confirmation . your order should be ship...\n",
       "20114       0  the internet patrol http clicks suretymailings...\n",
       "59123       0  you've missed the complete true argument and a...\n",
       "57625       0  robert hicks 写道 is export ok for those items y...\n",
       "64448       0  google news alert for bush bush calls iraq suc...\n",
       "22185       1  nutrisystem eat free for a week order from us ...\n",
       "28730       1  greetings ,\\nwe are accepting your mortgage ap...\n",
       "14607       1  before those virile women i bring down a bit o...\n",
       "31477       0  vince -\\nthat is not a problem . we will not s...\n",
       "82105       1  your credit history doesn't matter to us if yo...\n",
       "1287        1  that this mud draws on the stone demonstrating...\n",
       "20588       1  hey there find quality replica watches such as...\n",
       "16204       0  dear ? vincent kaminski :\\n?\\ni got your conta...\n",
       "67145       1  do not miss your opportunity escapenumber anat...\n",
       "44019       1  ¡¡ äúºãìø¼ûíøõ¾±¨¼ûµ¥èçïâ£º íøõ¾ààðí ðû´«ðí õ¹...\n",
       "50939       0  ok here is a simple solution one can apply the...\n",
       "18853       1  while we may have high expectations of our ass...\n",
       "24930       0  please what ' s the ststus ?\\n- - - - - - - - ...\n",
       "43301       0  on tue jun escapenumber escapenumber at escape...\n",
       "454         1  start shopping at costco today with a free gol...\n",
       "47722       1  hello , i have a special offer for you . . .\\n..."
      ]
     },
     "execution_count": 9,
     "metadata": {},
     "output_type": "execute_result"
    }
   ],
   "source": [
    "df.sample(30)"
   ]
  },
  {
   "cell_type": "code",
   "execution_count": null,
   "id": "55eab8c6",
   "metadata": {
    "tags": []
   },
   "outputs": [
    {
     "name": "stdout",
     "output_type": "stream",
     "text": [
      "Data exploration\n"
     ]
    }
   ],
   "source": [
    "print(\"Data exploration\")"
   ]
  },
  {
   "cell_type": "code",
   "execution_count": null,
   "id": "f220e7ea",
   "metadata": {
    "tags": []
   },
   "outputs": [
    {
     "data": {
      "text/plain": [
       "labels\n",
       "1    43910\n",
       "0    39538\n",
       "Name: count, dtype: int64"
      ]
     },
     "execution_count": 11,
     "metadata": {},
     "output_type": "execute_result"
    }
   ],
   "source": [
    "df['labels'].value_counts()"
   ]
  },
  {
   "cell_type": "code",
   "execution_count": null,
   "id": "1789ee9a",
   "metadata": {
    "tags": []
   },
   "outputs": [
    {
     "data": {
      "text/plain": [
       "([<matplotlib.patches.Wedge at 0x13d54f04e50>,\n",
       "  <matplotlib.patches.Wedge at 0x13d54f06ed0>],\n",
       " [Text(-0.09042452969926633, 1.0962770655398508, 'spam'),\n",
       "  Text(0.09042452969926644, -1.0962770655398508, 'ham')],\n",
       " [Text(-0.04932247074505435, 0.5979693084762823, '52.62'),\n",
       "  Text(0.049322470745054414, -0.5979693084762823, '47.38')])"
      ]
     },
     "execution_count": 12,
     "metadata": {},
     "output_type": "execute_result"
    },
    {
     "data": {
      "image/png": "[encoded data removed]",
      "text/plain": [
       "<Figure size 640x480 with 1 Axes>"
      ]
     },
     "metadata": {},
     "output_type": "display_data"
    }
   ],
   "source": [
    "import matplotlib.pyplot as plt\n",
    "plt.pie(df['labels'].value_counts(),labels=['spam','ham'],autopct=\"%0.2f\")"
   ]
  },
  {
   "cell_type": "code",
   "execution_count": null,
   "id": "98b082af",
   "metadata": {
    "tags": []
   },
   "outputs": [
    {
     "name": "stdout",
     "output_type": "stream",
     "text": [
      "Requirement already satisfied: nltk in c:\\users\\mobisafrankline\\anaconda3\\lib\\site-packages (3.8.1)\n",
      "Requirement already satisfied: click in c:\\users\\mobisafrankline\\anaconda3\\lib\\site-packages (from nltk) (8.0.4)\n",
      "Requirement already satisfied: joblib in c:\\users\\mobisafrankline\\anaconda3\\lib\\site-packages (from nltk) (1.2.0)\n",
      "Requirement already satisfied: regex>=2021.8.3 in c:\\users\\mobisafrankline\\anaconda3\\lib\\site-packages (from nltk) (2022.7.9)\n",
      "Requirement already satisfied: tqdm in c:\\users\\mobisafrankline\\anaconda3\\lib\\site-packages (from nltk) (4.65.0)\n",
      "Requirement already satisfied: colorama in c:\\users\\mobisafrankline\\appdata\\roaming\\python\\python311\\site-packages (from click->nltk) (0.4.6)\n"
     ]
    }
   ],
   "source": [
    "!pip install nltk\n"
   ]
  },
  {
   "cell_type": "code",
   "execution_count": null,
   "id": "ebe63666",
   "metadata": {
    "tags": []
   },
   "outputs": [
    {
     "name": "stderr",
     "output_type": "stream",
     "text": [
      "[nltk_data] Downloading package punkt to\n",
      "[nltk_data]     C:\\Users\\Mobisafrankline\\AppData\\Roaming\\nltk_data...\n",
      "[nltk_data]   Package punkt is already up-to-date!\n"
     ]
    },
    {
     "data": {
      "text/plain": [
       "True"
      ]
     },
     "execution_count": 14,
     "metadata": {},
     "output_type": "execute_result"
    }
   ],
   "source": [
    "import nltk\n",
    "nltk.download('punkt')"
   ]
  },
  {
   "cell_type": "code",
   "execution_count": null,
   "id": "0d964c59",
   "metadata": {
    "tags": []
   },
   "outputs": [],
   "source": [
    "df['num_characters']=df['Texts'].apply(len)\n"
   ]
  },
  {
   "cell_type": "code",
   "execution_count": null,
   "id": "488debab",
   "metadata": {
    "tags": []
   },
   "outputs": [
    {
     "data": {
      "text/html": [
       "<div>\n",
       "<style scoped>\n",
       "    .dataframe tbody tr th:only-of-type {\n",
       "        vertical-align: middle;\n",
       "    }\n",
       "\n",
       "    .dataframe tbody tr th {\n",
       "        vertical-align: top;\n",
       "    }\n",
       "\n",
       "    .dataframe thead th {\n",
       "        text-align: right;\n",
       "    }\n",
       "</style>\n",
       "<table border=\"1\" class=\"dataframe\">\n",
       "  <thead>\n",
       "    <tr style=\"text-align: right;\">\n",
       "      <th></th>\n",
       "      <th>labels</th>\n",
       "      <th>Texts</th>\n",
       "      <th>num_characters</th>\n",
       "    </tr>\n",
       "  </thead>\n",
       "  <tbody>\n",
       "    <tr>\n",
       "      <th>0</th>\n",
       "      <td>1</td>\n",
       "      <td>ounce feather bowl hummingbird opec moment ala...</td>\n",
       "      <td>148</td>\n",
       "    </tr>\n",
       "    <tr>\n",
       "      <th>1</th>\n",
       "      <td>1</td>\n",
       "      <td>wulvob get your medircations online qnb ikud v...</td>\n",
       "      <td>808</td>\n",
       "    </tr>\n",
       "    <tr>\n",
       "      <th>2</th>\n",
       "      <td>0</td>\n",
       "      <td>computer connection from cnn com wednesday es...</td>\n",
       "      <td>2235</td>\n",
       "    </tr>\n",
       "    <tr>\n",
       "      <th>3</th>\n",
       "      <td>1</td>\n",
       "      <td>university degree obtain a prosperous future m...</td>\n",
       "      <td>592</td>\n",
       "    </tr>\n",
       "    <tr>\n",
       "      <th>4</th>\n",
       "      <td>0</td>\n",
       "      <td>thanks for all your answers guys i know i shou...</td>\n",
       "      <td>1362</td>\n",
       "    </tr>\n",
       "  </tbody>\n",
       "</table>\n",
       "</div>"
      ],
      "text/plain": [
       "   labels                                              Texts  num_characters\n",
       "0       1  ounce feather bowl hummingbird opec moment ala...             148\n",
       "1       1  wulvob get your medircations online qnb ikud v...             808\n",
       "2       0   computer connection from cnn com wednesday es...            2235\n",
       "3       1  university degree obtain a prosperous future m...             592\n",
       "4       0  thanks for all your answers guys i know i shou...            1362"
      ]
     },
     "execution_count": 16,
     "metadata": {},
     "output_type": "execute_result"
    }
   ],
   "source": [
    "df.head()"
   ]
  },
  {
   "cell_type": "code",
   "execution_count": null,
   "id": "e06ec745",
   "metadata": {
    "tags": []
   },
   "outputs": [],
   "source": [
    "#find the number of words in thmessage, a column of num_words will be created.\n",
    "df['num_words'] = df['Texts'].apply(lambda x: len(nltk.word_tokenize(x)))\n"
   ]
  },
  {
   "cell_type": "code",
   "execution_count": null,
   "id": "63cd76b3",
   "metadata": {
    "tags": []
   },
   "outputs": [
    {
     "data": {
      "text/html": [
       "<div>\n",
       "<style scoped>\n",
       "    .dataframe tbody tr th:only-of-type {\n",
       "        vertical-align: middle;\n",
       "    }\n",
       "\n",
       "    .dataframe tbody tr th {\n",
       "        vertical-align: top;\n",
       "    }\n",
       "\n",
       "    .dataframe thead th {\n",
       "        text-align: right;\n",
       "    }\n",
       "</style>\n",
       "<table border=\"1\" class=\"dataframe\">\n",
       "  <thead>\n",
       "    <tr style=\"text-align: right;\">\n",
       "      <th></th>\n",
       "      <th>labels</th>\n",
       "      <th>Texts</th>\n",
       "      <th>num_characters</th>\n",
       "      <th>num_words</th>\n",
       "    </tr>\n",
       "  </thead>\n",
       "  <tbody>\n",
       "    <tr>\n",
       "      <th>0</th>\n",
       "      <td>1</td>\n",
       "      <td>ounce feather bowl hummingbird opec moment ala...</td>\n",
       "      <td>148</td>\n",
       "      <td>20</td>\n",
       "    </tr>\n",
       "    <tr>\n",
       "      <th>1</th>\n",
       "      <td>1</td>\n",
       "      <td>wulvob get your medircations online qnb ikud v...</td>\n",
       "      <td>808</td>\n",
       "      <td>104</td>\n",
       "    </tr>\n",
       "    <tr>\n",
       "      <th>2</th>\n",
       "      <td>0</td>\n",
       "      <td>computer connection from cnn com wednesday es...</td>\n",
       "      <td>2235</td>\n",
       "      <td>338</td>\n",
       "    </tr>\n",
       "    <tr>\n",
       "      <th>3</th>\n",
       "      <td>1</td>\n",
       "      <td>university degree obtain a prosperous future m...</td>\n",
       "      <td>592</td>\n",
       "      <td>76</td>\n",
       "    </tr>\n",
       "    <tr>\n",
       "      <th>4</th>\n",
       "      <td>0</td>\n",
       "      <td>thanks for all your answers guys i know i shou...</td>\n",
       "      <td>1362</td>\n",
       "      <td>223</td>\n",
       "    </tr>\n",
       "  </tbody>\n",
       "</table>\n",
       "</div>"
      ],
      "text/plain": [
       "   labels                                              Texts  num_characters  \\\n",
       "0       1  ounce feather bowl hummingbird opec moment ala...             148   \n",
       "1       1  wulvob get your medircations online qnb ikud v...             808   \n",
       "2       0   computer connection from cnn com wednesday es...            2235   \n",
       "3       1  university degree obtain a prosperous future m...             592   \n",
       "4       0  thanks for all your answers guys i know i shou...            1362   \n",
       "\n",
       "   num_words  \n",
       "0         20  \n",
       "1        104  \n",
       "2        338  \n",
       "3         76  \n",
       "4        223  "
      ]
     },
     "execution_count": 18,
     "metadata": {},
     "output_type": "execute_result"
    }
   ],
   "source": [
    "df.head()"
   ]
  },
  {
   "cell_type": "code",
   "execution_count": null,
   "id": "608e2880",
   "metadata": {},
   "outputs": [],
   "source": [
    "df['num_sentences']=df['Texts'].apply(lambda x: len(nltk.sent_tokenize(x)))"
   ]
  },
  {
   "cell_type": "code",
   "execution_count": null,
   "id": "b24df47e",
   "metadata": {},
   "outputs": [
    {
     "data": {
      "text/html": [
       "<div>\n",
       "<style scoped>\n",
       "    .dataframe tbody tr th:only-of-type {\n",
       "        vertical-align: middle;\n",
       "    }\n",
       "\n",
       "    .dataframe tbody tr th {\n",
       "        vertical-align: top;\n",
       "    }\n",
       "\n",
       "    .dataframe thead th {\n",
       "        text-align: right;\n",
       "    }\n",
       "</style>\n",
       "<table border=\"1\" class=\"dataframe\">\n",
       "  <thead>\n",
       "    <tr style=\"text-align: right;\">\n",
       "      <th></th>\n",
       "      <th>labels</th>\n",
       "      <th>Texts</th>\n",
       "      <th>num_characters</th>\n",
       "      <th>num_words</th>\n",
       "      <th>num_sentences</th>\n",
       "    </tr>\n",
       "  </thead>\n",
       "  <tbody>\n",
       "    <tr>\n",
       "      <th>0</th>\n",
       "      <td>1</td>\n",
       "      <td>ounce feather bowl hummingbird opec moment ala...</td>\n",
       "      <td>148</td>\n",
       "      <td>20</td>\n",
       "      <td>1</td>\n",
       "    </tr>\n",
       "    <tr>\n",
       "      <th>1</th>\n",
       "      <td>1</td>\n",
       "      <td>wulvob get your medircations online qnb ikud v...</td>\n",
       "      <td>808</td>\n",
       "      <td>104</td>\n",
       "      <td>1</td>\n",
       "    </tr>\n",
       "    <tr>\n",
       "      <th>2</th>\n",
       "      <td>0</td>\n",
       "      <td>computer connection from cnn com wednesday es...</td>\n",
       "      <td>2235</td>\n",
       "      <td>338</td>\n",
       "      <td>1</td>\n",
       "    </tr>\n",
       "    <tr>\n",
       "      <th>3</th>\n",
       "      <td>1</td>\n",
       "      <td>university degree obtain a prosperous future m...</td>\n",
       "      <td>592</td>\n",
       "      <td>76</td>\n",
       "      <td>1</td>\n",
       "    </tr>\n",
       "    <tr>\n",
       "      <th>4</th>\n",
       "      <td>0</td>\n",
       "      <td>thanks for all your answers guys i know i shou...</td>\n",
       "      <td>1362</td>\n",
       "      <td>223</td>\n",
       "      <td>1</td>\n",
       "    </tr>\n",
       "  </tbody>\n",
       "</table>\n",
       "</div>"
      ],
      "text/plain": [
       "   labels                                              Texts  num_characters  \\\n",
       "0       1  ounce feather bowl hummingbird opec moment ala...             148   \n",
       "1       1  wulvob get your medircations online qnb ikud v...             808   \n",
       "2       0   computer connection from cnn com wednesday es...            2235   \n",
       "3       1  university degree obtain a prosperous future m...             592   \n",
       "4       0  thanks for all your answers guys i know i shou...            1362   \n",
       "\n",
       "   num_words  num_sentences  \n",
       "0         20              1  \n",
       "1        104              1  \n",
       "2        338              1  \n",
       "3         76              1  \n",
       "4        223              1  "
      ]
     },
     "execution_count": 20,
     "metadata": {},
     "output_type": "execute_result"
    }
   ],
   "source": [
    "df.head()"
   ]
  },
  {
   "cell_type": "code",
   "execution_count": null,
   "id": "32a8db3a",
   "metadata": {
    "tags": []
   },
   "outputs": [],
   "source": [
    "import seaborn as sns\n",
    "import matplotlib.pyplot as plt"
   ]
  },
  {
   "cell_type": "code",
   "execution_count": null,
   "id": "809ec0de",
   "metadata": {
    "tags": []
   },
   "outputs": [
    {
     "data": {
      "text/plain": [
       "<Axes: xlabel='num_characters', ylabel='Count'>"
      ]
     },
     "execution_count": 20,
     "metadata": {},
     "output_type": "execute_result"
    },
    {
     "data": {
      "image/png": "[encoded data removed]",
      "text/plain": [
       "<Figure size 1200x600 with 1 Axes>"
      ]
     },
     "metadata": {},
     "output_type": "display_data"
    }
   ],
   "source": [
    "plt.figure(figsize=(12,6))\n",
    "sns.histplot(df[df['labels']==0]['num_characters'])\n",
    "sns.histplot(df[df['labels']==1]['num_characters'],color='black')"
   ]
  },
  {
   "cell_type": "code",
   "execution_count": null,
   "id": "3cef7fcb",
   "metadata": {
    "tags": []
   },
   "outputs": [
    {
     "name": "stderr",
     "output_type": "stream",
     "text": [
      "C:\\Users\\Mobisafrankline\\anaconda3\\Lib\\site-packages\\seaborn\\axisgrid.py:118: UserWarning: The figure layout has changed to tight\n",
      "  self._figure.tight_layout(*args, **kwargs)\n"
     ]
    },
    {
     "data": {
      "image/png": "[encoded data removed]",
      "text/plain": [
       "<Figure size 558.875x500 with 6 Axes>"
      ]
     },
     "metadata": {},
     "output_type": "display_data"
    }
   ],
   "source": [
    "colors = ['#2ca02c', '#9467bd']  \n",
    "sns.pairplot(df, hue='labels', palette=colors)\n",
    "\n",
    "# Show the plot\n",
    "plt.show()"
   ]
  },
  {
   "cell_type": "code",
   "execution_count": null,
   "id": "cde4612a",
   "metadata": {},
   "outputs": [],
   "source": [
    "\n"
   ]
  },
  {
   "cell_type": "code",
   "execution_count": null,
   "id": "da01047c",
   "metadata": {
    "tags": []
   },
   "outputs": [
    {
     "name": "stdout",
     "output_type": "stream",
     "text": [
      "THE FOLLOWING LINE OF CODE IS FOR DATA PREPROCESSING.\n"
     ]
    }
   ],
   "source": [
    "#THE FOLLOWING LINE OF CODE IS FOR DATA PREPROCESSING.\n",
    "print('THE FOLLOWING LINE OF CODE IS FOR DATA PREPROCESSING.')"
   ]
  },
  {
   "cell_type": "code",
   "execution_count": null,
   "id": "6f08762b",
   "metadata": {
    "tags": []
   },
   "outputs": [
    {
     "name": "stdout",
     "output_type": "stream",
     "text": [
      "go home soon\n"
     ]
    },
    {
     "name": "stderr",
     "output_type": "stream",
     "text": [
      "[nltk_data] Downloading package stopwords to\n",
      "[nltk_data]     C:\\Users\\Mobisafrankline\\AppData\\Roaming\\nltk_data...\n",
      "[nltk_data]   Package stopwords is already up-to-date!\n",
      "[nltk_data] Downloading package wordnet to\n",
      "[nltk_data]     C:\\Users\\Mobisafrankline\\AppData\\Roaming\\nltk_data...\n",
      "[nltk_data]   Package wordnet is already up-to-date!\n",
      "[nltk_data] Downloading package punkt to\n",
      "[nltk_data]     C:\\Users\\Mobisafrankline\\AppData\\Roaming\\nltk_data...\n",
      "[nltk_data]   Package punkt is already up-to-date!\n"
     ]
    }
   ],
   "source": [
    "import nltk\n",
    "from nltk.corpus import stopwords\n",
    "from nltk.chunk import RegexpParser\n",
    "from nltk.stem import PorterStemmer\n",
    "import string\n",
    "\n",
    "nltk.download('stopwords')\n",
    "nltk.download('wordnet')\n",
    "nltk.download('punkt')\n",
    "\n",
    "# Initialize the Porter Stemmer\n",
    "ps = PorterStemmer()\n",
    "\n",
    "def transform_text(text):\n",
    "    text = text.lower()\n",
    "    text = nltk.word_tokenize(text)\n",
    "    \n",
    "    y = []\n",
    "    for i in text:\n",
    "        if i.isalnum():\n",
    "            y.append(i)\n",
    "            \n",
    "    text = y[:]\n",
    "    y.clear()\n",
    "    for i in text:\n",
    "        if i not in stopwords.words(\"english\") and i not in string.punctuation:\n",
    "            y.append(i)\n",
    "                \n",
    "    text = y[:]\n",
    "    y.clear()\n",
    "    for i in text:\n",
    "        y.append(ps.stem(i))\n",
    "            \n",
    "    return \" \".join(y)\n",
    "    \n",
    "transformed_text = transform_text(\"i am going home soon.\")\n",
    "print(transformed_text)\n"
   ]
  },
  {
   "cell_type": "code",
   "execution_count": null,
   "id": "f6e441c9",
   "metadata": {
    "tags": []
   },
   "outputs": [],
   "source": [
    "#checking if the above "
   ]
  },
  {
   "cell_type": "code",
   "execution_count": null,
   "id": "354d9e14",
   "metadata": {
    "tags": []
   },
   "outputs": [],
   "source": [
    "df['transformed_text'] = df[\"Texts\"].apply(transform_text)"
   ]
  },
  {
   "cell_type": "code",
   "execution_count": null,
   "id": "c1ed1bf6",
   "metadata": {
    "tags": []
   },
   "outputs": [],
   "source": [
    "df.head()\n"
   ]
  },
  {
   "cell_type": "code",
   "execution_count": null,
   "id": "c877c4eb",
   "metadata": {
    "tags": []
   },
   "outputs": [],
   "source": [
    "!pip install wordcloud\n",
    "\n",
    "from wordcloud import WordCloud\n"
   ]
  },
  {
   "cell_type": "code",
   "execution_count": null,
   "id": "93ad0a80",
   "metadata": {
    "tags": []
   },
   "outputs": [],
   "source": [
    "df.describe()\n"
   ]
  },
  {
   "cell_type": "code",
   "execution_count": null,
   "id": "515e01e8",
   "metadata": {
    "tags": []
   },
   "outputs": [],
   "source": [
    "# Create WordCloud object with specified parameters\n",
    "wc = WordCloud(width=500, height=500, min_font_size=10, background_color=\"white\")"
   ]
  },
  {
   "cell_type": "code",
   "execution_count": null,
   "id": "180f57cf",
   "metadata": {
    "tags": []
   },
   "outputs": [],
   "source": [
    "# Generate word cloud for transformed text data with label 1\n",
    "spam_wc = WordCloud().generate(df[df[\"labels\"] == 1][\"transformed_text\"].str.cat(sep=\" \"))\n",
    "\n",
    "# Plot the word cloud\n",
    "plt.figure(figsize=(15, 6))\n",
    "plt.imshow(spam_wc, interpolation='bilinear')\n",
    "plt.axis(\"off\")\n",
    "plt.show()"
   ]
  },
  {
   "cell_type": "code",
   "execution_count": null,
   "id": "4565fb9c",
   "metadata": {},
   "outputs": [],
   "source": [
    "# Generate word cloud for transformed text data with label 0\n",
    "spam_wc = WordCloud().generate(df[df[\"labels\"] == 0][\"transformed_text\"].str.cat(sep=\" \"))\n",
    "\n",
    "# Plot the word cloud\n",
    "plt.figure(figsize=(15, 8))\n",
    "plt.imshow(spam_wc, interpolation='bilinear')\n",
    "plt.axis(\"off\")\n",
    "plt.show()"
   ]
  },
  {
   "cell_type": "code",
   "execution_count": null,
   "id": "3cce6f69",
   "metadata": {},
   "outputs": [],
   "source": [
    "spam_corpus = []\n",
    "for msg in df[df['labels'] == 1]['transformed_text'].tolist():\n",
    "    for word in msg.split():\n",
    "        spam_corpus.append(word)"
   ]
  },
  {
   "cell_type": "code",
   "execution_count": null,
   "id": "663b9bec",
   "metadata": {},
   "outputs": [],
   "source": [
    "len(spam_corpus)"
   ]
  },
  {
   "cell_type": "code",
   "execution_count": null,
   "id": "240ddaaa",
   "metadata": {},
   "outputs": [],
   "source": [
    "from collctions import Counter\n",
    "sns.barplot(pd.DataFrame(Counter(spam_corpus)most_common(30))[0],\n",
    "            pd.DataFrame(Counter(spam_corpus)most_common(30))[1])\n",
    "plt.xticks(rotaton = 'vertical')\n",
    "plt.show()"
   ]
  },
  {
   "cell_type": "code",
   "execution_count": null,
   "id": "f933dcc7",
   "metadata": {},
   "outputs": [],
   "source": [
    "ham_corpus = []\n",
    "for msg in df[df['labels'] == 1]['transformed_text'].tolist():\n",
    "    for word in msg.split():\n",
    "        ham_corpus.append(word)"
   ]
  },
  {
   "cell_type": "code",
   "execution_count": null,
   "id": "6822d89a",
   "metadata": {},
   "outputs": [],
   "source": [
    "from collctions import Counter\n",
    "sns.barplot(pd.DataFrame(Counter(ham_corpus)most_common(30))[0],\n",
    "            pd.DataFrame(Counter(ham_corpus)most_common(30))[1])\n",
    "plt.xticks(rotaton = 'vertical')\n",
    "plt.show()"
   ]
  },
  {
   "cell_type": "markdown",
   "id": "cac86722",
   "metadata": {},
   "source": [
    "# # Build our model from the data above"
   ]
  },
  {
   "cell_type": "code",
   "execution_count": null,
   "id": "c179498d",
   "metadata": {},
   "outputs": [],
   "source": []
  },
  {
   "cell_type": "code",
   "execution_count": null,
   "id": "399a9aa5",
   "metadata": {},
   "outputs": [],
   "source": [
    "from sklarnfeature_extraction.text import CountVectorizer, TfidfVectorizer\n",
    "cv =CountVectorizer()\n",
    "tfidf = TfidfVectorizer(max_feature=4000)"
   ]
  },
  {
   "cell_type": "code",
   "execution_count": null,
   "id": "636a7d03",
   "metadata": {},
   "outputs": [],
   "source": [
    "x = tfidf.fit_transform(df['transformed_text']).toarray()"
   ]
  },
  {
   "cell_type": "code",
   "execution_count": null,
   "id": "fc2082dd",
   "metadata": {},
   "outputs": [],
   "source": [
    "y = df['labels'].values"
   ]
  },
  {
   "cell_type": "code",
   "execution_count": null,
   "id": "3837f7ef",
   "metadata": {},
   "outputs": [],
   "source": [
    "from sklearn.model_selection import train_test_split"
   ]
  },
  {
   "cell_type": "code",
   "execution_count": null,
   "id": "3fa5508b",
   "metadata": {},
   "outputs": [],
   "source": [
    "x_train, x_test, y_train, y_test = train_test_split(x,y, test_size = 0.2, range)"
   ]
  },
  {
   "cell_type": "code",
   "execution_count": null,
   "id": "5d22d24e",
   "metadata": {},
   "outputs": [],
   "source": [
    "from sklearn.naive_bayes import GaussianNB, MultinomialNB, BernoulliNB\n",
    "from sklearn.metrics import accuracy_score, confusion_matrix, precision_score\n",
    "gnb = GaussianNB()\n",
    "mnb = MultinomialNB()\n",
    "bnb = BernoulliNB()"
   ]
  },
  {
   "cell_type": "code",
   "execution_count": null,
   "id": "a0bdac56",
   "metadata": {},
   "outputs": [],
   "source": [
    "gnb.fit(x_train, y_train)\n",
    "y_pred1 = gnb.predict(x_test)\n",
    "print(accuracy_score(y_test, y_pred1))\n",
    "print(confusion_matrix(y_test, y_pred1))\n",
    "print(precision_score(y_test, y_pred1))"
   ]
  },
  {
   "cell_type": "code",
   "execution_count": null,
   "id": "eba28104",
   "metadata": {},
   "outputs": [],
   "source": [
    "mnb.fit(x_train, y_train)\n",
    "y_pred2 = mnb.predict(x_test)\n",
    "print(accuracy_score(y_test, y_pred2))\n",
    "print(confusion_matrix(y_test, y_pred2))\n",
    "print(precision_score(y_test, y_pred2))"
   ]
  },
  {
   "cell_type": "code",
   "execution_count": null,
   "id": "fc7a7e6e",
   "metadata": {},
   "outputs": [],
   "source": [
    "bnb.fit(x_train, y_train)\n",
    "y_pred3 = bnb.predict(x_test)\n",
    "print(accuracy_score(y_test, y_pred3))\n",
    "print(confusion_matrix(y_test, y_pred3))\n",
    "print(precision_score(y_test, y_pred3))"
   ]
  },
  {
   "cell_type": "code",
   "execution_count": null,
   "id": "3c772718",
   "metadata": {},
   "outputs": [],
   "source": [
    "!pip install xgboost"
   ]
  },
  {
   "cell_type": "code",
   "execution_count": null,
   "id": "bbcacc7a",
   "metadata": {},
   "outputs": [],
   "source": [
    "from sklearn.linear_model import LogisticRegression\n",
    "from sklearn.svm import SVC\n",
    "from sklearn.naive_bayes import MultinomialNB\n",
    "from sklearn.tree import DecisionTreeClassifier\n",
    "from sklearn.neighbors import KNeighborsClassifier\n",
    "from sklearn.ensemble import RandomForestClassifier\n",
    "from sklearn.ensemble import AdaBoostClassifier\n",
    "from sklearn.ensemble import BaggingClassifier\n",
    "from sklearn.ensemble import ExtraTreesClassifier\n",
    "from sklearn.ensemble import GradientBoostingClassifier\n",
    "from xgboost import XGBClassifier"
   ]
  },
  {
   "cell_type": "code",
   "execution_count": null,
   "id": "71ddf30c",
   "metadata": {},
   "outputs": [],
   "source": [
    "svc = SVC(kernel = 'sigmoid', gamma = 1.0)\n",
    "knc = KNeighborsClassifier()\n",
    "mnd = MultinomialNB()\n",
    "dtc = DecisionTreeClassifier(max_depth = 5)\n",
    "lrc = LogisticRegression(solver = 'liblinear', penalty = 'l2')\n",
    "rfc = RandomForestClassifier(n_estimators = 50, random_state = 2)\n",
    "abc = AdaBoostClassifier(n_estimators = 50, random_state = 2)\n",
    "bc = BaggingClassifier(n_estimators = 50, random_state = 2)\n",
    "etc = ExtraTreesClassifier(n_estimators = 50, random_state = 2)\n",
    "gbdt = GradientBoostingClassifier(n_estimators = 50, random_state = 2)\n",
    "xgb = XGBClassifier(n_estimators = 50, random_state = 2)"
   ]
  },
  {
   "cell_type": "code",
   "execution_count": null,
   "id": "39c6d2ec",
   "metadata": {},
   "outputs": [],
   "source": [
    "clfs = {\n",
    "    'SVC' : svc,\n",
    "    'KN' : knc,\n",
    "    'NB' : knc,\n",
    "    'NB' : mnb,\n",
    "    'DT' : dtc,\n",
    "    'LR' : lrc,\n",
    "    'RF' : rfc,\n",
    "    'AdaBoost' : abc,\n",
    "    'BgC' : bc,\n",
    "    'ETC' : etc,\n",
    "    'GBDT' : gbdt,\n",
    "    'xgb' : xgb\n",
    "}"
   ]
  },
  {
   "cell_type": "code",
   "execution_count": null,
   "id": "df0cbc33",
   "metadata": {},
   "outputs": [],
   "source": [
    "def train_classifier(clf, X_train, y_train, X_test, y_test):\n",
    "    clf.fit(X_train, y_train)\n",
    "    y_pred = clf.predict(X_test)\n",
    "    accuracy = accuracy_score(y_test, y_pred)\n",
    "    precision = precision_score(y_test, y_pred)\n",
    "    \n",
    "    return accuracy, precision"
   ]
  },
  {
   "cell_type": "code",
   "execution_count": null,
   "id": "e626f851",
   "metadata": {},
   "outputs": [],
   "source": [
    "train_classifier(svc, X_train, y_train, X_test, y_test )"
   ]
  },
  {
   "cell_type": "code",
   "execution_count": null,
   "id": "aec87ed0",
   "metadata": {},
   "outputs": [],
   "source": [
    "# checking through the performnace of all the models we have used and its very much amusing\n",
    "from sklearn.linear_model import LogisticRegression\n",
    "from sklearn.metrics import accuracy_score, precision_score\n",
    "\n",
    "# Create a Logistic Regression classifier with 'l2' penalty\n",
    "# clf = LogisticRegression(penalty='l1')\n",
    "\n",
    "accuracy_scores = []\n",
    "precision_scores = []\n",
    "\n",
    "for name, clf in clfs.items():\n",
    "    current_accuracy, current_precision = train_classifier(clf, X_train, y_train, X_test, y_test )\n",
    "    \n",
    "    print(\"For \", name)\n",
    "    print(\"Accuracy - \", current_accuracy)\n",
    "    print(\"Precision - \", current_precision)\n",
    "    \n",
    "    accuracy_scores.append(current_accuracy)\n",
    "    precision_scores.append(current_precision)"
   ]
  },
  {
   "cell_type": "code",
   "execution_count": null,
   "id": "13096600",
   "metadata": {},
   "outputs": [],
   "source": [
    "#create a dataframe to store and compare the accuracy and precision of the different algorithm\n",
    "# Assuming clfs, accuracy_scores, and precision_scores are defined\n",
    "performance_df = pd.DataFrame({'Algorithm': list(clfs.keys()), 'Accuracy': accuracy_scores, 'Precision': precision_scores})\n",
    "performance_df = performance_df.sort_values('Precision', ascending=False)"
   ]
  },
  {
   "cell_type": "code",
   "execution_count": null,
   "id": "b506a853",
   "metadata": {},
   "outputs": [],
   "source": [
    "performance_df"
   ]
  },
  {
   "cell_type": "code",
   "execution_count": null,
   "id": "e6d4327a",
   "metadata": {},
   "outputs": [],
   "source": [
    "performance_df1 = pd.melt(performance_df, id_vars = \"Algorithm\")\n",
    "performance_df1"
   ]
  },
  {
   "cell_type": "code",
   "execution_count": null,
   "id": "a5f198da",
   "metadata": {},
   "outputs": [],
   "source": [
    "#visualise this for a depper understanding\n",
    "sns.catplot(x = 'Algorithm', y = 'value',\n",
    "               hue = 'variable', data = performance_df1, kind = 'bar', height = 5, palette=colors)\n",
    "plt.ylim(0.5, 1.0)\n",
    "plt.xticks(rotation = 'vertical')\n",
    "plt.show()"
   ]
  },
  {
   "cell_type": "code",
   "execution_count": null,
   "id": "3019d662",
   "metadata": {},
   "outputs": [],
   "source": [
    "temp_df = pd.DataFrame({'Algorithm': clfs.keys(), 'Accuracy_max_ft_3000': accuracy_scores, 'Precision_max_ft_3000': precision_scores})\n",
    "temp_df = temp_df.sort_values('Accuracy_max_ft_3000', ascending=False)"
   ]
  },
  {
   "cell_type": "code",
   "execution_count": null,
   "id": "2a0ae850",
   "metadata": {},
   "outputs": [],
   "source": [
    "new_df = performance_df.merge(temp_df, on = 'Algorithm')"
   ]
  },
  {
   "cell_type": "code",
   "execution_count": null,
   "id": "5873997d",
   "metadata": {},
   "outputs": [],
   "source": [
    "new_df_scaled = new_df.merge(temp_df, on = 'Algorithm')"
   ]
  },
  {
   "cell_type": "code",
   "execution_count": null,
   "id": "6660a014",
   "metadata": {},
   "outputs": [],
   "source": [
    "temp_df = pd.DataFrame({'Algorithm' :clfs.keys(), 'Accuracy_num_chars': accuracy_scores, 'Precision_num_chars': precision_scores}).sort_values('Accuracy_num_chars', ascending=False)"
   ]
  },
  {
   "cell_type": "code",
   "execution_count": null,
   "id": "7e0a586f",
   "metadata": {},
   "outputs": [],
   "source": [
    "new_df_scaled.merge(temp_df, on = 'Algorithm')"
   ]
  },
  {
   "cell_type": "code",
   "execution_count": null,
   "id": "87c74074",
   "metadata": {},
   "outputs": [],
   "source": [
    "# now I vote classify and save the model\n",
    "svc = SVC(kernel = 'sigmoid', gamma = 1.0, probability = True)\n",
    "mnb = MultinomialNB()\n",
    "etc = ExtraTreesClassifier(n_estimators = 50, random_state = 2)\n",
    "\n",
    "from sklearn.ensemble import VotingClassifier"
   ]
  },
  {
   "cell_type": "code",
   "execution_count": null,
   "id": "a417f2c7",
   "metadata": {},
   "outputs": [],
   "source": [
    "voting = VotingClassifier(estimators = [('svm', svc), ('nb', mnb), ('et', etc)], voting = 'soft')"
   ]
  },
  {
   "cell_type": "code",
   "execution_count": null,
   "id": "246b5879",
   "metadata": {},
   "outputs": [],
   "source": [
    "voting.fit(X_train, y_train)"
   ]
  },
  {
   "cell_type": "code",
   "execution_count": null,
   "id": "8cc73653",
   "metadata": {},
   "outputs": [],
   "source": [
    "y_pred = voting.predict(X_test)\n",
    "print(\"Accuracy\", accuracy_score(y_test, y_pred))\n",
    "print(\"Precision\", precision_score(y_test, y_pred))"
   ]
  },
  {
   "cell_type": "code",
   "execution_count": null,
   "id": "8d4fd28c",
   "metadata": {},
   "outputs": [],
   "source": [
    "#applying stacking\n",
    "estimators = [('svm', svc), ('nb', etc)]\n",
    "final_estimator = RandomForestClassifier()"
   ]
  },
  {
   "cell_type": "code",
   "execution_count": null,
   "id": "1d1654e4",
   "metadata": {},
   "outputs": [],
   "source": [
    "from sklearn.ensemble import StackingClassifier"
   ]
  },
  {
   "cell_type": "code",
   "execution_count": null,
   "id": "034d1eaa",
   "metadata": {},
   "outputs": [],
   "source": [
    "clf = StackingClassifier(estimators = estimators, final_estimator = final_estimator)"
   ]
  },
  {
   "cell_type": "code",
   "execution_count": null,
   "id": "9d9faca2",
   "metadata": {},
   "outputs": [],
   "source": [
    "clf.fit(X_train, y_train)\n",
    "y_pred = clf.predict(X_test)\n",
    "print(\"Accuracy\", accuracy_score(y_test, y_pred))\n",
    "print(\"Precision\", precision_score(y_test, y_pred))"
   ]
  },
  {
   "cell_type": "code",
   "execution_count": null,
   "id": "eb23736c",
   "metadata": {},
   "outputs": [],
   "source": [
    "import pickle\n",
    "pickle.dump(tfidf, open('vectorizer.pkl', 'wb'))\n",
    "pickle.dump(mnb, open('model.pkl', 'wb'))"
   ]
  },
  {
   "cell_type": "code",
   "execution_count": null,
   "id": "92971495",
   "metadata": {},
   "outputs": [],
   "source": [
    "#saving my model\n",
    "import pickle\n",
    "from sklearn.feature_extraction.text import TfidfVectorizer\n",
    "from sklearn.naive_bayes import MultinomialNB\n",
    "import numpy as np\n",
    "\n",
    "# Sample text data with corresponding labels (replace with your actual data)\n",
    "X_train = np.array([\"Sample text 1\", \"Sample text 2\", \"Sample text 3\"])\n",
    "y_train = [0, 1, 0]  # 1 represents positive\n",
    "\n",
    "# Convert X_train to a list\n",
    "X_train_list = X_train.tolist()\n",
    "\n",
    "# Create and train the TF-IDF vectorizer\n",
    "tfidf = TfidfVectorizer(lowercase=True, stop_words='english')\n",
    "X_train_tfidf = tfidf.fit_transform(X_train_list)\n",
    "\n",
    "# Create and train the Naive Bayes classifier\n",
    "mnb = MultinomialNB()\n",
    "mnb.fit(X_train_tfidf, y_train)\n",
    "\n",
    "# Save the trained TF-IDF vectorizer and Naive Bayes model to files\n",
    "with open('vectorizer.pkl', 'wb') as vectorizer_file:\n",
    "    pickle.dump(tfidf, vectorizer_file)\n",
    "    \n",
    "with open('model.pkl', 'wb') as model_file:\n",
    "    pickle.dump(mnb, model_file)"
   ]
  },
  {
   "cell_type": "code",
   "execution_count": null,
   "id": "bb144941",
   "metadata": {},
   "outputs": [],
   "source": []
  }
 ],
 "metadata": {
  "kernelspec": {
   "display_name": "Python 3 (ipykernel)",
   "language": "python",
   "name": "python3"
  },
  "language_info": {
   "codemirror_mode": {
    "name": "ipython",
    "version": 3
   },
   "file_extension": ".py",
   "mimetype": "text/x-python",
   "name": "python",
   "nbconvert_exporter": "python",
   "pygments_lexer": "ipython3",
   "version": "3.11.4"
  }
 },
 "nbformat": 4,
 "nbformat_minor": 5
}
